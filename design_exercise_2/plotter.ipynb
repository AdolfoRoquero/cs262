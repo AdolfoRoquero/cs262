{
 "cells": [
  {
   "cell_type": "code",
   "execution_count": 25,
   "id": "682637b6",
   "metadata": {},
   "outputs": [
    {
     "name": "stdout",
     "output_type": "stream",
     "text": [
      "Hello from process P2 with pid 6968 at rate 0.3333333333333333\n",
      "\n"
     ]
    },
    {
     "ename": "ValueError",
     "evalue": "invalid literal for int() with base 10: ' sys_clock:12'",
     "output_type": "error",
     "traceback": [
      "\u001b[0;31m---------------------------------------------------------------------------\u001b[0m",
      "\u001b[0;31mValueError\u001b[0m                                Traceback (most recent call last)",
      "\u001b[0;32m/var/folders/8g/b3vlnnj17tb3k_0j5h_6j_8h0000gn/T/ipykernel_6744/2432703061.py\u001b[0m in \u001b[0;36m<module>\u001b[0;34m\u001b[0m\n\u001b[1;32m     34\u001b[0m     \u001b[0;32melif\u001b[0m \u001b[0mlog\u001b[0m\u001b[0;34m.\u001b[0m\u001b[0mstartswith\u001b[0m\u001b[0;34m(\u001b[0m\u001b[0;34m'SENT'\u001b[0m\u001b[0;34m)\u001b[0m\u001b[0;34m:\u001b[0m\u001b[0;34m\u001b[0m\u001b[0;34m\u001b[0m\u001b[0m\n\u001b[1;32m     35\u001b[0m         \u001b[0mlog_lst\u001b[0m \u001b[0;34m=\u001b[0m \u001b[0mlog\u001b[0m\u001b[0;34m.\u001b[0m\u001b[0msplit\u001b[0m\u001b[0;34m(\u001b[0m\u001b[0;34m','\u001b[0m\u001b[0;34m)\u001b[0m\u001b[0;34m\u001b[0m\u001b[0;34m\u001b[0m\u001b[0m\n\u001b[0;32m---> 36\u001b[0;31m         \u001b[0msys_clock\u001b[0m \u001b[0;34m=\u001b[0m \u001b[0mint\u001b[0m\u001b[0;34m(\u001b[0m\u001b[0mlog_lst\u001b[0m\u001b[0;34m[\u001b[0m\u001b[0;36m2\u001b[0m\u001b[0;34m]\u001b[0m\u001b[0;34m.\u001b[0m\u001b[0mreplace\u001b[0m\u001b[0;34m(\u001b[0m\u001b[0;34m'sys_clock: '\u001b[0m\u001b[0;34m,\u001b[0m \u001b[0;34m''\u001b[0m\u001b[0;34m)\u001b[0m\u001b[0;34m)\u001b[0m\u001b[0;34m\u001b[0m\u001b[0;34m\u001b[0m\u001b[0m\n\u001b[0m\u001b[1;32m     37\u001b[0m         \u001b[0mlogical_clock\u001b[0m \u001b[0;34m=\u001b[0m \u001b[0mint\u001b[0m\u001b[0;34m(\u001b[0m\u001b[0mlog_lst\u001b[0m\u001b[0;34m[\u001b[0m\u001b[0;36m3\u001b[0m\u001b[0;34m]\u001b[0m\u001b[0;34m.\u001b[0m\u001b[0mreplace\u001b[0m\u001b[0;34m(\u001b[0m\u001b[0;34m'logical_clock: '\u001b[0m\u001b[0;34m,\u001b[0m \u001b[0;34m''\u001b[0m\u001b[0;34m)\u001b[0m\u001b[0;34m)\u001b[0m\u001b[0;34m\u001b[0m\u001b[0;34m\u001b[0m\u001b[0m\n\u001b[1;32m     38\u001b[0m         \u001b[0msys_clocks\u001b[0m\u001b[0;34m.\u001b[0m\u001b[0mappend\u001b[0m\u001b[0;34m(\u001b[0m\u001b[0msys_clock\u001b[0m\u001b[0;34m)\u001b[0m\u001b[0;34m\u001b[0m\u001b[0;34m\u001b[0m\u001b[0m\n",
      "\u001b[0;31mValueError\u001b[0m: invalid literal for int() with base 10: ' sys_clock:12'"
     ]
    }
   ],
   "source": [
    "import os \n",
    "import matplotlib.pyplot as plt\n",
    "dir=os.getcwd()\n",
    "\n",
    "# for path in os.listdir(dir):\n",
    "#     if path.endswith('.log'):\n",
    "#         f  = open(path, \"r\")\n",
    "#         print(path)\n",
    "\n",
    "f  = open(\"./P2_pid_6968.log\", \"r\")\n",
    "entries = []\n",
    "logical_clocks = [] \n",
    "sys_clocks = []\n",
    "events = [] \n",
    "codes = []\n",
    "\n",
    "for log in f: \n",
    "    if log.startswith('RECEIVE MESSAGE'):\n",
    "        log_lst = log.split(',')\n",
    "        sys_clock = int(log_lst[2].replace('sys_clock: ', ''))\n",
    "        logical_clock = int(log_lst[3].replace('logical_clock: ', ''))\n",
    "        sys_clocks.append(sys_clock)\n",
    "        logical_clocks.append(logical_clock)\n",
    "        events.append('recv')\n",
    "        codes.append('-1')\n",
    "    elif log.startswith('INTERNAL EVENT'): \n",
    "        log_lst = log.split(',')\n",
    "        sys_clock = int(log_lst[2].replace('sys_clock: ', ''))\n",
    "        logical_clock = int(log_lst[3].replace('logical_clock: ', ''))\n",
    "        sys_clocks.append(sys_clock)\n",
    "        logical_clocks.append(logical_clock)\n",
    "        events.append('internal')\n",
    "        codes.append('3')\n",
    "    elif log.startswith('SENT'):\n",
    "        log_lst = log.split(',')\n",
    "        sys_clock = int(log_lst[2].replace('sys_clock: ', ''))\n",
    "        logical_clock = int(log_lst[3].replace('logical_clock: ', ''))\n",
    "        sys_clocks.append(sys_clock)\n",
    "        logical_clocks.append(logical_clock)\n",
    "        code = log_lst[4]\n",
    "        code_lst = code.split('')\n",
    "        codes.append(len(code_lst))\n",
    "        events.append('send')\n",
    "    else:\n",
    "        print(log)\n",
    "        \n",
    "        "
   ]
  },
  {
   "cell_type": "code",
   "execution_count": 23,
   "id": "94ab30fd",
   "metadata": {},
   "outputs": [
    {
     "data": {
      "text/plain": [
       "[<matplotlib.lines.Line2D at 0x7f8aab894b50>]"
      ]
     },
     "execution_count": 23,
     "metadata": {},
     "output_type": "execute_result"
    },
    {
     "data": {
      "image/png": "[encoded data removed]",
      "text/plain": [
       "<Figure size 432x288 with 1 Axes>"
      ]
     },
     "metadata": {
      "needs_background": "light"
     },
     "output_type": "display_data"
    }
   ],
   "source": [
    "plt.plot(sys_clocks, logical_clocks)"
   ]
  },
  {
   "cell_type": "code",
   "execution_count": null,
   "id": "e403d739",
   "metadata": {},
   "outputs": [],
   "source": []
  }
 ],
 "metadata": {
  "kernelspec": {
   "display_name": "Python 3 (ipykernel)",
   "language": "python",
   "name": "python3"
  },
  "language_info": {
   "codemirror_mode": {
    "name": "ipython",
    "version": 3
   },
   "file_extension": ".py",
   "mimetype": "text/x-python",
   "name": "python",
   "nbconvert_exporter": "python",
   "pygments_lexer": "ipython3",
   "version": "3.7.4"
  }
 },
 "nbformat": 4,
 "nbformat_minor": 5
}
